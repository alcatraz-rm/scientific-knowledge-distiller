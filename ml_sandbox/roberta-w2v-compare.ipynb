{
 "cells": [
  {
   "cell_type": "code",
   "execution_count": 1,
   "metadata": {
    "collapsed": true
   },
   "outputs": [],
   "source": [
    "from copy import deepcopy\n",
    "\n",
    "import progressbar\n",
    "import spacy\n",
    "from sentence_transformers import SentenceTransformer, util\n",
    "import os\n",
    "w2v_model = spacy.load('en_core_web_lg')"
   ]
  },
  {
   "cell_type": "code",
   "execution_count": 2,
   "metadata": {
    "pycharm": {
     "name": "#%%\n"
    }
   },
   "outputs": [
    {
     "data": {
      "text/plain": "True"
     },
     "execution_count": 2,
     "metadata": {},
     "output_type": "execute_result"
    }
   ],
   "source": [
    "from dotenv import load_dotenv\n",
    "from pathlib import Path\n",
    "\n",
    "initial_wd = os.getcwd()\n",
    "while os.path.split(os.getcwd())[-1] != 'scientific-knowledge-distiller':\n",
    "    os.chdir(os.path.join(os.getcwd(), '..'))\n",
    "root_path = os.getcwd()\n",
    "os.chdir(initial_wd)\n",
    "\n",
    "load_dotenv(dotenv_path=Path(os.path.join(root_path, '.env')))"
   ]
  },
  {
   "cell_type": "code",
   "execution_count": 3,
   "metadata": {
    "pycharm": {
     "name": "#%%\n"
    }
   },
   "outputs": [],
   "source": [
    "query = 'out-of-distribution detection in deep neural networks'\n",
    "limit = 5000\n",
    "threshold_sim = 0.0"
   ]
  },
  {
   "cell_type": "code",
   "execution_count": null,
   "metadata": {
    "pycharm": {
     "name": "#%%\n",
     "is_executing": true
    }
   },
   "outputs": [],
   "source": [
    "from search_engine.databases.database_client import SupportedSources\n",
    "from search_engine import Search\n",
    "\n",
    "s = Search(\n",
    "    query,\n",
    "    limit=limit,\n",
    "    sources=(\n",
    "        SupportedSources.ARXIV,\n",
    "        SupportedSources.CROSSREF,\n",
    "        SupportedSources.INTERNET_ARCHIVE,\n",
    "        SupportedSources.SEMANTIC_SCHOLAR,\n",
    "        SupportedSources.UNPAYWALL,\n",
    "    )\n",
    ")\n",
    "s.perform()"
   ]
  },
  {
   "cell_type": "code",
   "execution_count": 5,
   "metadata": {
    "pycharm": {
     "name": "#%%\n"
    }
   },
   "outputs": [
    {
     "name": "stdout",
     "output_type": "stream",
     "text": [
      "total found: 20004\n",
      "starting deduplication...\n"
     ]
    }
   ],
   "source": [
    "results = list(s.results())"
   ]
  },
  {
   "cell_type": "code",
   "execution_count": 7,
   "metadata": {
    "pycharm": {
     "name": "#%%\n"
    }
   },
   "outputs": [
    {
     "name": "stderr",
     "output_type": "stream",
     "text": [
      "INFO:sentence_transformers.SentenceTransformer:Load pretrained SentenceTransformer: stsb-roberta-large\n",
      "INFO:sentence_transformers.SentenceTransformer:Use pytorch device: cpu\n"
     ]
    },
    {
     "data": {
      "text/plain": "Batches:   0%|          | 0/1 [00:00<?, ?it/s]",
      "application/vnd.jupyter.widget-view+json": {
       "version_major": 2,
       "version_minor": 0,
       "model_id": "6806cd570257467da2a9d6f70db8d1da"
      }
     },
     "metadata": {},
     "output_type": "display_data"
    },
    {
     "name": "stderr",
     "output_type": "stream",
     "text": [
      " 14% (2642 of 18509) |##                 | Elapsed Time: 0:04:39 ETA:   0:28:56/var/folders/3t/7d9zj3jx3g55g5yqhywfr0c40000gn/T/ipykernel_8990/2117533954.py:14: UserWarning: [W008] Evaluating Doc.similarity based on empty vectors.\n",
      "  sim_score_w2v = embedding_w2v_1.similarity(embedding_w2v_2)\n",
      "100% (18509 of 18509) |##################| Elapsed Time: 0:34:04 Time:  0:34:04\n"
     ]
    }
   ],
   "source": [
    "import numpy as np\n",
    "\n",
    "final_results = []\n",
    "embedding_w2v_1 = w2v_model(query)\n",
    "model = SentenceTransformer('stsb-roberta-large')\n",
    "embedding1 = model.encode(query, convert_to_tensor=True, normalize_embeddings=True)\n",
    "\n",
    "for doc in progressbar.progressbar(results):\n",
    "    if not doc.title:\n",
    "        continue\n",
    "    title = doc.title.lower()\n",
    "\n",
    "    embedding_w2v_2 = w2v_model(title)\n",
    "    sim_score_w2v = embedding_w2v_1.similarity(embedding_w2v_2)\n",
    "    embedding2 = model.encode(title, convert_to_tensor=True, show_progress_bar=False, normalize_embeddings=True)\n",
    "    cosine_scores = util.dot_score(embedding1, embedding2)\n",
    "    sim_score_roberta = cosine_scores.item()\n",
    "\n",
    "    # if sim_score > threshold_sim:\n",
    "    final_results.append((deepcopy(doc), sim_score_roberta, sim_score_w2v, np.abs(sim_score_roberta - sim_score_w2v)))\n",
    "\n",
    "final_results = sorted(final_results, key=lambda x: x[3])"
   ]
  },
  {
   "cell_type": "code",
   "execution_count": 8,
   "metadata": {
    "pycharm": {
     "name": "#%%\n"
    }
   },
   "outputs": [
    {
     "data": {
      "text/plain": "                                                   title  roberta_sim  \\\n0      Outlier Detection for Multidimensional Time Se...     0.760481   \n1      Dynamic Network Anomaly Detection System by Us...     0.725599   \n2      Robust mixture of experts modeling using the <...     0.313494   \n3      What can linearized neural networks actually s...     0.461067   \n4      Network Traffic Anomaly Detection via Deep Lea...     0.689579   \n...                                                  ...          ...   \n18359  Second-Generation Sequencing with Deep Reinfor...     0.092982   \n18360  LayoutReader: Pre-training of Text and Layout ...     0.038394   \n18361  Automatic monitoring and detection of tail-bit...     0.157831   \n18362  Automatic monitoring and detection of tail-bit...     0.157831   \n18363  Detection of Tomato Ripening Stages using Yolo...     0.106053   \n\n        w2v_sim      diff  \n0      0.761605  0.001124  \n1      0.727387  0.001788  \n2      0.316564  0.003070  \n3      0.464407  0.003339  \n4      0.684817  0.004762  \n...         ...       ...  \n18359  0.845946  0.752964  \n18360  0.794956  0.756562  \n18361  0.922180  0.764349  \n18362  0.922180  0.764349  \n18363  0.877848  0.771796  \n\n[18364 rows x 4 columns]",
      "text/html": "<div>\n<style scoped>\n    .dataframe tbody tr th:only-of-type {\n        vertical-align: middle;\n    }\n\n    .dataframe tbody tr th {\n        vertical-align: top;\n    }\n\n    .dataframe thead th {\n        text-align: right;\n    }\n</style>\n<table border=\"1\" class=\"dataframe\">\n  <thead>\n    <tr style=\"text-align: right;\">\n      <th></th>\n      <th>title</th>\n      <th>roberta_sim</th>\n      <th>w2v_sim</th>\n      <th>diff</th>\n    </tr>\n  </thead>\n  <tbody>\n    <tr>\n      <th>0</th>\n      <td>Outlier Detection for Multidimensional Time Se...</td>\n      <td>0.760481</td>\n      <td>0.761605</td>\n      <td>0.001124</td>\n    </tr>\n    <tr>\n      <th>1</th>\n      <td>Dynamic Network Anomaly Detection System by Us...</td>\n      <td>0.725599</td>\n      <td>0.727387</td>\n      <td>0.001788</td>\n    </tr>\n    <tr>\n      <th>2</th>\n      <td>Robust mixture of experts modeling using the &lt;...</td>\n      <td>0.313494</td>\n      <td>0.316564</td>\n      <td>0.003070</td>\n    </tr>\n    <tr>\n      <th>3</th>\n      <td>What can linearized neural networks actually s...</td>\n      <td>0.461067</td>\n      <td>0.464407</td>\n      <td>0.003339</td>\n    </tr>\n    <tr>\n      <th>4</th>\n      <td>Network Traffic Anomaly Detection via Deep Lea...</td>\n      <td>0.689579</td>\n      <td>0.684817</td>\n      <td>0.004762</td>\n    </tr>\n    <tr>\n      <th>...</th>\n      <td>...</td>\n      <td>...</td>\n      <td>...</td>\n      <td>...</td>\n    </tr>\n    <tr>\n      <th>18359</th>\n      <td>Second-Generation Sequencing with Deep Reinfor...</td>\n      <td>0.092982</td>\n      <td>0.845946</td>\n      <td>0.752964</td>\n    </tr>\n    <tr>\n      <th>18360</th>\n      <td>LayoutReader: Pre-training of Text and Layout ...</td>\n      <td>0.038394</td>\n      <td>0.794956</td>\n      <td>0.756562</td>\n    </tr>\n    <tr>\n      <th>18361</th>\n      <td>Automatic monitoring and detection of tail-bit...</td>\n      <td>0.157831</td>\n      <td>0.922180</td>\n      <td>0.764349</td>\n    </tr>\n    <tr>\n      <th>18362</th>\n      <td>Automatic monitoring and detection of tail-bit...</td>\n      <td>0.157831</td>\n      <td>0.922180</td>\n      <td>0.764349</td>\n    </tr>\n    <tr>\n      <th>18363</th>\n      <td>Detection of Tomato Ripening Stages using Yolo...</td>\n      <td>0.106053</td>\n      <td>0.877848</td>\n      <td>0.771796</td>\n    </tr>\n  </tbody>\n</table>\n<p>18364 rows × 4 columns</p>\n</div>"
     },
     "execution_count": 8,
     "metadata": {},
     "output_type": "execute_result"
    }
   ],
   "source": [
    "import pandas as pd\n",
    "\n",
    "df = pd.DataFrame(final_results, columns=['title', 'roberta_sim', 'w2v_sim', 'diff'])\n",
    "df"
   ]
  },
  {
   "cell_type": "code",
   "execution_count": 9,
   "metadata": {
    "pycharm": {
     "name": "#%%\n"
    }
   },
   "outputs": [],
   "source": [
    "df.to_csv('output-1.csv')"
   ]
  },
  {
   "cell_type": "code",
   "execution_count": null,
   "outputs": [],
   "source": [],
   "metadata": {
    "collapsed": false,
    "pycharm": {
     "name": "#%%\n"
    }
   }
  }
 ],
 "metadata": {
  "kernelspec": {
   "display_name": "Python 3 (ipykernel)",
   "language": "python",
   "name": "python3"
  },
  "language_info": {
   "codemirror_mode": {
    "name": "ipython",
    "version": 3
   },
   "file_extension": ".py",
   "mimetype": "text/x-python",
   "name": "python",
   "nbconvert_exporter": "python",
   "pygments_lexer": "ipython3",
   "version": "3.10.0"
  }
 },
 "nbformat": 4,
 "nbformat_minor": 1
}