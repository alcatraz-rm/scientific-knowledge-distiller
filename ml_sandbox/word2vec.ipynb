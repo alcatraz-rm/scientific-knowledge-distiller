{
 "cells": [
  {
   "cell_type": "code",
   "execution_count": 1,
   "metadata": {
    "collapsed": true
   },
   "outputs": [],
   "source": []
  },
  {
   "cell_type": "code",
   "execution_count": 1,
   "outputs": [],
   "source": [
    "from copy import deepcopy\n",
    "\n",
    "import progressbar\n",
    "import spacy\n",
    "import os\n",
    "w2v_model = spacy.load('en_core_web_lg')"
   ],
   "metadata": {
    "collapsed": false,
    "pycharm": {
     "name": "#%%\n"
    }
   }
  },
  {
   "cell_type": "code",
   "execution_count": 2,
   "outputs": [
    {
     "data": {
      "text/plain": "True"
     },
     "execution_count": 2,
     "metadata": {},
     "output_type": "execute_result"
    }
   ],
   "source": [
    "from dotenv import load_dotenv\n",
    "from pathlib import Path\n",
    "\n",
    "initial_wd = os.getcwd()\n",
    "while os.path.split(os.getcwd())[-1] != 'scientific-knowledge-distiller':\n",
    "    os.chdir(os.path.join(os.getcwd(), '..'))\n",
    "root_path = os.getcwd()\n",
    "os.chdir(initial_wd)\n",
    "\n",
    "load_dotenv(dotenv_path=Path(os.path.join(root_path, '.env')))"
   ],
   "metadata": {
    "collapsed": false,
    "pycharm": {
     "name": "#%%\n"
    }
   }
  },
  {
   "cell_type": "code",
   "execution_count": 3,
   "outputs": [],
   "source": [
    "query = 'out-of-distribution detection in deep neural networks'\n",
    "limit = 100\n",
    "threshold_sim = 0.0"
   ],
   "metadata": {
    "collapsed": false,
    "pycharm": {
     "name": "#%%\n"
    }
   }
  },
  {
   "cell_type": "code",
   "execution_count": 4,
   "outputs": [
    {
     "name": "stderr",
     "output_type": "stream",
     "text": [
      "INFO:arxiv.arxiv:Requesting 100 results at offset 0\n",
      "INFO:arxiv.arxiv:Requesting page of results\n",
      "INFO:root:unpaywall: 4\n",
      "INFO:arxiv.arxiv:Got first page; 2071017 of inf results available\n",
      "INFO:root:arXiv: 1\n",
      "INFO:root:arXiv: 2\n",
      "INFO:root:arXiv: 3\n",
      "INFO:root:arXiv: 4\n",
      "INFO:root:arXiv: 5\n",
      "INFO:root:arXiv: 6\n",
      "INFO:root:arXiv: 7\n",
      "INFO:root:arXiv: 8\n",
      "INFO:root:arXiv: 9\n",
      "INFO:root:arXiv: 10\n",
      "INFO:root:arXiv: 11\n",
      "INFO:root:arXiv: 12\n",
      "INFO:root:arXiv: 13\n",
      "INFO:root:arXiv: 14\n",
      "INFO:root:arXiv: 15\n",
      "INFO:root:arXiv: 16\n",
      "INFO:root:arXiv: 17\n",
      "INFO:root:arXiv: 18\n",
      "INFO:root:arXiv: 19\n",
      "INFO:root:arXiv: 20\n",
      "INFO:root:arXiv: 21\n",
      "INFO:root:arXiv: 22\n",
      "INFO:root:arXiv: 23\n",
      "INFO:root:arXiv: 24\n",
      "INFO:root:arXiv: 25\n",
      "INFO:root:arXiv: 26\n",
      "INFO:root:arXiv: 27\n",
      "INFO:root:arXiv: 28\n",
      "INFO:root:arXiv: 29\n",
      "INFO:root:arXiv: 30\n",
      "INFO:root:arXiv: 31\n",
      "INFO:root:arXiv: 32\n",
      "INFO:root:arXiv: 33\n",
      "INFO:root:arXiv: 34\n",
      "INFO:root:arXiv: 35\n",
      "INFO:root:arXiv: 36\n",
      "INFO:root:arXiv: 37\n",
      "INFO:root:arXiv: 38\n",
      "INFO:root:arXiv: 39\n",
      "INFO:root:arXiv: 40\n",
      "INFO:root:arXiv: 41\n",
      "INFO:root:arXiv: 42\n",
      "INFO:root:arXiv: 43\n",
      "INFO:root:arXiv: 44\n",
      "INFO:root:arXiv: 45\n",
      "INFO:root:arXiv: 46\n",
      "INFO:root:arXiv: 47\n",
      "INFO:root:arXiv: 48\n",
      "INFO:root:arXiv: 49\n",
      "INFO:root:arXiv: 50\n",
      "INFO:root:arXiv: 51\n",
      "INFO:root:arXiv: 52\n",
      "INFO:root:arXiv: 53\n",
      "INFO:root:arXiv: 54\n",
      "INFO:root:arXiv: 55\n",
      "INFO:root:arXiv: 56\n",
      "INFO:root:arXiv: 57\n",
      "INFO:root:arXiv: 58\n",
      "INFO:root:arXiv: 59\n",
      "INFO:root:arXiv: 60\n",
      "INFO:root:arXiv: 61\n",
      "INFO:root:arXiv: 62\n",
      "INFO:root:arXiv: 63\n",
      "INFO:root:arXiv: 64\n",
      "INFO:root:arXiv: 65\n",
      "INFO:root:arXiv: 66\n",
      "INFO:root:arXiv: 67\n",
      "INFO:root:arXiv: 68\n",
      "INFO:root:arXiv: 69\n",
      "INFO:root:arXiv: 70\n",
      "INFO:root:arXiv: 71\n",
      "INFO:root:arXiv: 72\n",
      "INFO:root:arXiv: 73\n",
      "INFO:root:arXiv: 74\n",
      "INFO:root:arXiv: 75\n",
      "INFO:root:arXiv: 76\n",
      "INFO:root:arXiv: 77\n",
      "INFO:root:arXiv: 78\n",
      "INFO:root:arXiv: 79\n",
      "INFO:root:arXiv: 80\n",
      "INFO:root:arXiv: 81\n",
      "INFO:root:arXiv: 82\n",
      "INFO:root:arXiv: 83\n",
      "INFO:root:arXiv: 84\n",
      "INFO:root:arXiv: 85\n",
      "INFO:root:arXiv: 86\n",
      "INFO:root:arXiv: 87\n",
      "INFO:root:arXiv: 88\n",
      "INFO:root:arXiv: 89\n",
      "INFO:root:arXiv: 90\n",
      "INFO:root:arXiv: 91\n",
      "INFO:root:arXiv: 92\n",
      "INFO:root:arXiv: 93\n",
      "INFO:root:arXiv: 94\n",
      "INFO:root:arXiv: 95\n",
      "INFO:root:arXiv: 96\n",
      "INFO:root:arXiv: 97\n",
      "INFO:root:arXiv: 98\n",
      "INFO:root:arXiv: 99\n",
      "INFO:root:arXiv: 100\n",
      "INFO:root:crossref: 100\n",
      "INFO:root:semantic scholar: 100\n",
      "INFO:root:internet archive: 100\n"
     ]
    }
   ],
   "source": [
    "from search_engine.databases.database_client import SupportedSources\n",
    "from search_engine import Search\n",
    "\n",
    "s = Search(\n",
    "    query,\n",
    "    limit=limit,\n",
    "    sources=(\n",
    "        SupportedSources.ARXIV,\n",
    "        SupportedSources.CROSSREF,\n",
    "        SupportedSources.INTERNET_ARCHIVE,\n",
    "        SupportedSources.SEMANTIC_SCHOLAR,\n",
    "        SupportedSources.UNPAYWALL,\n",
    "    )\n",
    ")\n",
    "s.perform()"
   ],
   "metadata": {
    "collapsed": false,
    "pycharm": {
     "name": "#%%\n"
    }
   }
  },
  {
   "cell_type": "code",
   "execution_count": 5,
   "outputs": [
    {
     "name": "stdout",
     "output_type": "stream",
     "text": [
      "total found: 404\n",
      "starting deduplication...\n"
     ]
    }
   ],
   "source": [
    "results = list(s.results())"
   ],
   "metadata": {
    "collapsed": false,
    "pycharm": {
     "name": "#%%\n"
    }
   }
  },
  {
   "cell_type": "code",
   "execution_count": 7,
   "outputs": [
    {
     "name": "stderr",
     "output_type": "stream",
     "text": [
      "100% (385 of 385) |######################| Elapsed Time: 0:00:01 Time:  0:00:01\n"
     ]
    }
   ],
   "source": [
    "final_results = []\n",
    "embedding1 = w2v_model(query)\n",
    "\n",
    "for doc in progressbar.progressbar(results):\n",
    "    if not doc.title:\n",
    "        continue\n",
    "\n",
    "    title = doc.title.lower()\n",
    "    embedding2 = w2v_model(title)\n",
    "    sim_score = embedding1.similarity(embedding2)\n",
    "\n",
    "    if sim_score > threshold_sim:\n",
    "        final_results.append((deepcopy(doc), sim_score))\n",
    "final_results = sorted(final_results, key=lambda x: -x[1])"
   ],
   "metadata": {
    "collapsed": false,
    "pycharm": {
     "name": "#%%\n"
    }
   }
  },
  {
   "cell_type": "code",
   "execution_count": 10,
   "outputs": [],
   "source": [
    "import pandas as pd\n",
    "\n",
    "df = pd.DataFrame(final_results, columns=['Title', 'Sim'])"
   ],
   "metadata": {
    "collapsed": false,
    "pycharm": {
     "name": "#%%\n"
    }
   }
  },
  {
   "cell_type": "code",
   "execution_count": 11,
   "outputs": [
    {
     "data": {
      "text/plain": "                                                 Title       Sim\n0    Uncertainty-Based Out-of-Distribution Detectio...  0.973442\n1    Linking Neural Collapse and L2 Normalization w...  0.968012\n2    Efficient Out-of-Distribution Detection in Dig...  0.961183\n3    Out-of-Distribution Example Detection in Deep ...  0.948399\n4    Ramifications of Approximate Posterior Inferen...  0.947772\n..                                                 ...       ...\n374  Do Deep Neural Networks Contribute to Multivar...  0.567068\n375                                      Deep Learning  0.550949\n376  Have You Stolen My Model? Evasion Attacks Agai...  0.543352\n377  Detecting Gas Vapor Leaks Using Uncalibrated S...  0.527859\n378                            OUP accepted manuscript  0.279125\n\n[379 rows x 2 columns]",
      "text/html": "<div>\n<style scoped>\n    .dataframe tbody tr th:only-of-type {\n        vertical-align: middle;\n    }\n\n    .dataframe tbody tr th {\n        vertical-align: top;\n    }\n\n    .dataframe thead th {\n        text-align: right;\n    }\n</style>\n<table border=\"1\" class=\"dataframe\">\n  <thead>\n    <tr style=\"text-align: right;\">\n      <th></th>\n      <th>Title</th>\n      <th>Sim</th>\n    </tr>\n  </thead>\n  <tbody>\n    <tr>\n      <th>0</th>\n      <td>Uncertainty-Based Out-of-Distribution Detectio...</td>\n      <td>0.973442</td>\n    </tr>\n    <tr>\n      <th>1</th>\n      <td>Linking Neural Collapse and L2 Normalization w...</td>\n      <td>0.968012</td>\n    </tr>\n    <tr>\n      <th>2</th>\n      <td>Efficient Out-of-Distribution Detection in Dig...</td>\n      <td>0.961183</td>\n    </tr>\n    <tr>\n      <th>3</th>\n      <td>Out-of-Distribution Example Detection in Deep ...</td>\n      <td>0.948399</td>\n    </tr>\n    <tr>\n      <th>4</th>\n      <td>Ramifications of Approximate Posterior Inferen...</td>\n      <td>0.947772</td>\n    </tr>\n    <tr>\n      <th>...</th>\n      <td>...</td>\n      <td>...</td>\n    </tr>\n    <tr>\n      <th>374</th>\n      <td>Do Deep Neural Networks Contribute to Multivar...</td>\n      <td>0.567068</td>\n    </tr>\n    <tr>\n      <th>375</th>\n      <td>Deep Learning</td>\n      <td>0.550949</td>\n    </tr>\n    <tr>\n      <th>376</th>\n      <td>Have You Stolen My Model? Evasion Attacks Agai...</td>\n      <td>0.543352</td>\n    </tr>\n    <tr>\n      <th>377</th>\n      <td>Detecting Gas Vapor Leaks Using Uncalibrated S...</td>\n      <td>0.527859</td>\n    </tr>\n    <tr>\n      <th>378</th>\n      <td>OUP accepted manuscript</td>\n      <td>0.279125</td>\n    </tr>\n  </tbody>\n</table>\n<p>379 rows × 2 columns</p>\n</div>"
     },
     "execution_count": 11,
     "metadata": {},
     "output_type": "execute_result"
    }
   ],
   "source": [
    "df"
   ],
   "metadata": {
    "collapsed": false,
    "pycharm": {
     "name": "#%%\n"
    }
   }
  },
  {
   "cell_type": "code",
   "execution_count": null,
   "outputs": [],
   "source": [],
   "metadata": {
    "collapsed": false,
    "pycharm": {
     "name": "#%%\n"
    }
   }
  }
 ],
 "metadata": {
  "kernelspec": {
   "display_name": "Python 3",
   "language": "python",
   "name": "python3"
  },
  "language_info": {
   "codemirror_mode": {
    "name": "ipython",
    "version": 2
   },
   "file_extension": ".py",
   "mimetype": "text/x-python",
   "name": "python",
   "nbconvert_exporter": "python",
   "pygments_lexer": "ipython2",
   "version": "2.7.6"
  }
 },
 "nbformat": 4,
 "nbformat_minor": 0
}