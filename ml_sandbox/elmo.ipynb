{
 "cells": [
  {
   "cell_type": "code",
   "execution_count": 1,
   "outputs": [
    {
     "data": {
      "text/plain": "True"
     },
     "execution_count": 1,
     "metadata": {},
     "output_type": "execute_result"
    }
   ],
   "source": [
    "import os\n",
    "from dotenv import load_dotenv\n",
    "from pathlib import Path\n",
    "\n",
    "initial_wd = os.getcwd()\n",
    "while os.path.split(os.getcwd())[-1] != 'scientific-knowledge-distiller':\n",
    "    os.chdir(os.path.join(os.getcwd(), '..'))\n",
    "root_path = os.getcwd()\n",
    "os.chdir(initial_wd)\n",
    "\n",
    "load_dotenv(dotenv_path=Path(os.path.join(root_path, '.env')))"
   ],
   "metadata": {
    "collapsed": false,
    "pycharm": {
     "name": "#%%\n"
    }
   }
  },
  {
   "cell_type": "code",
   "execution_count": 2,
   "outputs": [],
   "source": [
    "query = 'out-of-distribution detection in deep neural networks'\n",
    "limit = 1000\n",
    "threshold_sim = 0.0"
   ],
   "metadata": {
    "collapsed": false,
    "pycharm": {
     "name": "#%%\n"
    }
   }
  },
  {
   "cell_type": "code",
   "execution_count": 3,
   "outputs": [
    {
     "name": "stderr",
     "output_type": "stream",
     "text": [
      "2023-04-15 20:46:11.325742: W tensorflow/tsl/platform/profile_utils/cpu_utils.cc:128] Failed to get CPU frequency: 0 Hz\n"
     ]
    }
   ],
   "source": [
    "import tensorflow_hub as hub\n",
    "import tensorflow as tf\n",
    "tf.compat.v1.enable_eager_execution()\n",
    "elmo = hub.load(\"https://tfhub.dev/google/elmo/3\").signatures[\"default\"]"
   ],
   "metadata": {
    "collapsed": false,
    "pycharm": {
     "name": "#%%\n"
    }
   }
  },
  {
   "cell_type": "code",
   "execution_count": 27,
   "outputs": [],
   "source": [
    "input_tensors = [\"the movie is great\", \"differential equations\"]\n",
    "embeddings_tensor = elmo(tf.constant(input_tensors))[\"elmo\"]  #, signature=\"default\", as_dict=True)\n",
    "cosine_loss = tf.keras.losses.CosineSimilarity(axis=1)"
   ],
   "metadata": {
    "collapsed": false,
    "pycharm": {
     "name": "#%%\n"
    }
   }
  },
  {
   "cell_type": "code",
   "execution_count": 28,
   "outputs": [
    {
     "data": {
      "text/plain": "3.5680132278075765"
     },
     "execution_count": 28,
     "metadata": {},
     "output_type": "execute_result"
    }
   ],
   "source": [
    "import scipy\n",
    "from numpy.linalg import norm\n",
    "import numpy as np\n",
    "\n",
    "x = embeddings_tensor[0].numpy()\n",
    "y = embeddings_tensor[1].numpy()\n",
    "matrix = np.zeros((len(x), len(y)))\n",
    "\n",
    "for i in range(0, len(x)):\n",
    "    for j in range(0, len(y)):\n",
    "        matrix[i][j]= scipy.spatial.distance.cosine(x[i], y[j])\n",
    "\n",
    "norm(matrix)"
   ],
   "metadata": {
    "collapsed": false,
    "pycharm": {
     "name": "#%%\n"
    }
   }
  },
  {
   "cell_type": "code",
   "execution_count": null,
   "outputs": [],
   "source": [],
   "metadata": {
    "collapsed": false,
    "pycharm": {
     "name": "#%%\n"
    }
   }
  }
 ],
 "metadata": {
  "kernelspec": {
   "display_name": "Python 3",
   "language": "python",
   "name": "python3"
  },
  "language_info": {
   "codemirror_mode": {
    "name": "ipython",
    "version": 2
   },
   "file_extension": ".py",
   "mimetype": "text/x-python",
   "name": "python",
   "nbconvert_exporter": "python",
   "pygments_lexer": "ipython2",
   "version": "2.7.6"
  }
 },
 "nbformat": 4,
 "nbformat_minor": 0
}